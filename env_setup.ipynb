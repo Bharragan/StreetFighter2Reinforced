{
 "cells": [
  {
   "cell_type": "markdown",
   "metadata": {},
   "source": [
    "## 1. Install Required Libraries\n",
    "\n",
    "To ensure compatibility and proper functioning, follow these installation steps:\n",
    "\n",
    "### Install Basic Libraries\n",
    "First, install the specific versions of `setuptools` and `wheel`:\n",
    "```bash\n",
    "pip install setuptools==65.5.0 wheel==0.38.0\n",
    "```\n",
    "\n",
    "### Install Gym and Gym-Retro\n",
    "Install the `gym` and `gym-retro` libraries:\n",
    "```bash\n",
    "pip install gym==0.21.0 gym-retro==0.8.0\n",
    "```\n",
    "\n",
    "### Install PyTorch with CUDA 11.8 Support\n",
    "For PyTorch with CUDA 11.8 support, use:\n",
    "```bash\n",
    "pip install torch torchvision torchaudio --index-url https://download.pytorch.org/whl/cu118\n",
    "```\n",
    "\n",
    "### Install PyTorch with CUDA 11.3 Support (Alternative)\n",
    "Alternatively, if you need PyTorch with CUDA 11.3 support, use:\n",
    "```bash\n",
    "pip install torch==1.10.1+cu113 torchvision==0.11.2+cu113 torchaudio==0.10.1+cu113 -f https://download.pytorch.org/whl/cu113/torch_stable.html\n",
    "```\n",
    "\n",
    "### Install Additional Libraries\n",
    "Finally, install `matplotlib`, `stable-baselines3`, and `optuna`:\n",
    "```bash\n",
    "pip install matplotlib\n",
    "pip install stable-baselines3[extra] optuna\n",
    "```"
   ]
  },
  {
   "cell_type": "markdown",
   "metadata": {},
   "source": [
    "# 2. Locate retro and import the metadata\n"
   ]
  },
  {
   "cell_type": "code",
   "execution_count": null,
   "metadata": {},
   "outputs": [],
   "source": [
    "import os\n",
    "import retro\n",
    "\n",
    "retro_directory = os.path.dirname(retro.__file__)\n",
    "game_dir = \"data/stable/StreetFighterIISpecialChampionEdition-Genesis\"\n",
    "print(os.path.join(retro_directory, game_dir))"
   ]
  },
  {
   "cell_type": "markdown",
   "metadata": {},
   "source": [
    "Go to the direction and copy the metadata folder contents into the game dir"
   ]
  },
  {
   "cell_type": "markdown",
   "metadata": {},
   "source": [
    "# 3. Test the enviroment to see if it works"
   ]
  },
  {
   "cell_type": "code",
   "execution_count": null,
   "metadata": {},
   "outputs": [],
   "source": [
    "import time\n",
    "from utils.balanced_env import BalancedStreetFighterEnv\n",
    "\n",
    "env = BalancedStreetFighterEnv()\n",
    "\n",
    "obs = env.reset()\n",
    "# Set flag to flase\n",
    "done = False\n",
    "for game in range(1): \n",
    "    while not done: \n",
    "        if done: \n",
    "            obs = env.reset()\n",
    "        env.render()\n",
    "        obs, reward, done, info = env.step(env.action_space.sample())\n",
    "        time.sleep(0.01)\n",
    "        #print(reward)"
   ]
  },
  {
   "cell_type": "markdown",
   "metadata": {},
   "source": [
    "Ready to go"
   ]
  }
 ],
 "metadata": {
  "kernelspec": {
   "display_name": "stf2-enviroment",
   "language": "python",
   "name": "python3"
  },
  "language_info": {
   "codemirror_mode": {
    "name": "ipython",
    "version": 3
   },
   "file_extension": ".py",
   "mimetype": "text/x-python",
   "name": "python",
   "nbconvert_exporter": "python",
   "pygments_lexer": "ipython3",
   "version": "3.8.19"
  }
 },
 "nbformat": 4,
 "nbformat_minor": 2
}
