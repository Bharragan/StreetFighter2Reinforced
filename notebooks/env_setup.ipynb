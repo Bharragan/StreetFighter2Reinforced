{
 "cells": [
  {
   "cell_type": "markdown",
   "metadata": {},
   "source": [
    "## 1. Install Required Libraries\n",
    "\n",
    "To ensure compatibility and proper functioning, follow these installation steps:\n",
    "\n",
    "### Install Basic Libraries\n",
    "First, install the specific versions of `setuptools` and `wheel`:\n",
    "```bash\n",
    "pip install setuptools==65.5.0 wheel==0.38.0\n",
    "```\n",
    "\n",
    "### Install Gym and Gym-Retro\n",
    "Install the `gym` and `gym-retro` libraries:\n",
    "```bash\n",
    "pip install gym==0.21.0 gym-retro==0.8.0\n",
    "```\n",
    "\n",
    "### Install PyTorch with CUDA 11.8 Support\n",
    "For PyTorch with CUDA 11.8 support, use:\n",
    "```bash\n",
    "pip install torch torchvision torchaudio --index-url https://download.pytorch.org/whl/cu118\n",
    "```\n",
    "\n",
    "### Install PyTorch with CUDA 11.3 Support (Alternative)\n",
    "Alternatively, if you need PyTorch with CUDA 11.3 support, use:\n",
    "```bash\n",
    "pip install torch==1.10.1+cu113 torchvision==0.11.2+cu113 torchaudio==0.10.1+cu113 -f https://download.pytorch.org/whl/cu113/torch_stable.html\n",
    "```\n",
    "\n",
    "### Install Additional Libraries\n",
    "Finally, install `matplotlib`, `stable-baselines3`, and `optuna`:\n",
    "```bash\n",
    "pip install matplotlib\n",
    "pip install stable-baselines3[extra] optuna\n",
    "```"
   ]
  },
  {
   "cell_type": "markdown",
   "metadata": {},
   "source": [
    "# 2. Locate retro and import the metadata\n"
   ]
  },
  {
   "cell_type": "code",
   "execution_count": 1,
   "metadata": {},
   "outputs": [
    {
     "name": "stdout",
     "output_type": "stream",
     "text": [
      "c:\\Users\\nicol\\anaconda3\\envs\\stf2-enviroment\\lib\\site-packages\\retro\\data/stable/StreetFighterIISpecialChampionEdition-Genesis\n"
     ]
    }
   ],
   "source": [
    "import os\n",
    "import retro\n",
    "\n",
    "retro_directory = os.path.dirname(retro.__file__)\n",
    "game_dir = \"data/stable/StreetFighterIISpecialChampionEdition-Genesis\"\n",
    "print(os.path.join(retro_directory, game_dir))"
   ]
  },
  {
   "cell_type": "markdown",
   "metadata": {},
   "source": [
    "Go to the direction and copy the metadata folder contents into the game dir"
   ]
  },
  {
   "cell_type": "markdown",
   "metadata": {},
   "source": [
    "# 3. Test the enviroment to see if it works"
   ]
  },
  {
   "cell_type": "code",
   "execution_count": 1,
   "metadata": {},
   "outputs": [
    {
     "name": "stderr",
     "output_type": "stream",
     "text": [
      "c:\\Users\\nicol\\anaconda3\\envs\\stf2-enviroment\\lib\\site-packages\\pyglet\\libs\\win32\\__init__.py:318: UserWarning: Could not set COM MTA mode. Unexpected behavior may occur.\n",
      "  warnings.warn(\"Could not set COM MTA mode. Unexpected behavior may occur.\")\n"
     ]
    }
   ],
   "source": [
    "import time\n",
    "from utils.balanced_env import BalancedStreetFighterEnv\n",
    "state_name = 'chunli'\n",
    "env = BalancedStreetFighterEnv(state=state_name)\n",
    "\n",
    "obs = env.reset()\n",
    "# Set flag to flase\n",
    "done = False\n",
    "for game in range(1): \n",
    "    while not done: \n",
    "        if done: \n",
    "            obs = env.reset()\n",
    "        env.render()\n",
    "        obs, reward, done, info = env.step(env.action_space.sample())\n",
    "        time.sleep(0.01)\n",
    "        #print(reward)"
   ]
  },
  {
   "cell_type": "code",
   "execution_count": 1,
   "metadata": {},
   "outputs": [
    {
     "ename": "AttributeError",
     "evalue": "module 'retro' has no attribute 'list_states'",
     "output_type": "error",
     "traceback": [
      "\u001b[1;31m---------------------------------------------------------------------------\u001b[0m",
      "\u001b[1;31mAttributeError\u001b[0m                            Traceback (most recent call last)",
      "Cell \u001b[1;32mIn[1], line 4\u001b[0m\n\u001b[0;32m      1\u001b[0m \u001b[38;5;28;01mimport\u001b[39;00m \u001b[38;5;21;01mretro\u001b[39;00m\n\u001b[0;32m      3\u001b[0m \u001b[38;5;66;03m# Listar los estados disponibles para el juego 'StreetFighterIISpecialChampionEdition-Genesis'\u001b[39;00m\n\u001b[1;32m----> 4\u001b[0m states \u001b[38;5;241m=\u001b[39m \u001b[43mretro\u001b[49m\u001b[38;5;241;43m.\u001b[39;49m\u001b[43mlist_states\u001b[49m(game\u001b[38;5;241m=\u001b[39m\u001b[38;5;124m'\u001b[39m\u001b[38;5;124mStreetFighterIISpecialChampionEdition-Genesis\u001b[39m\u001b[38;5;124m'\u001b[39m)\n\u001b[0;32m      5\u001b[0m \u001b[38;5;28mprint\u001b[39m(states)\n",
      "\u001b[1;31mAttributeError\u001b[0m: module 'retro' has no attribute 'list_states'"
     ]
    }
   ],
   "source": [
    "import retro\n",
    "\n",
    "# Listar los estados disponibles para el juego 'StreetFighterIISpecialChampionEdition-Genesis'\n",
    "states = retro.list_states(game='StreetFighterIISpecialChampionEdition-Genesis')\n",
    "print(states)"
   ]
  },
  {
   "cell_type": "markdown",
   "metadata": {},
   "source": [
    "Ready to go"
   ]
  }
 ],
 "metadata": {
  "kernelspec": {
   "display_name": "stf2-enviroment",
   "language": "python",
   "name": "python3"
  },
  "language_info": {
   "codemirror_mode": {
    "name": "ipython",
    "version": 3
   },
   "file_extension": ".py",
   "mimetype": "text/x-python",
   "name": "python",
   "nbconvert_exporter": "python",
   "pygments_lexer": "ipython3",
   "version": "3.8.19"
  }
 },
 "nbformat": 4,
 "nbformat_minor": 2
}
