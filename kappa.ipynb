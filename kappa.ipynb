{
 "cells": [
  {
   "cell_type": "code",
   "execution_count": 3,
   "metadata": {},
   "outputs": [
    {
     "name": "stdout",
     "output_type": "stream",
     "text": [
      "Collecting gym\n",
      "  Using cached gym-0.26.2-py3-none-any.whl\n",
      "Collecting gym-retro\n",
      "  Using cached gym_retro-0.8.0-cp38-cp38-win_amd64.whl.metadata (3.6 kB)\n",
      "Requirement already satisfied: numpy>=1.18.0 in c:\\users\\nicol\\onedrive\\documentos\\aprendizaje\\streetfighter2reinforced\\.conda\\lib\\site-packages (from gym) (1.24.4)\n",
      "Collecting cloudpickle>=1.2.0 (from gym)\n",
      "  Using cached cloudpickle-3.0.0-py3-none-any.whl.metadata (7.0 kB)\n",
      "Requirement already satisfied: gym-notices>=0.0.4 in c:\\users\\nicol\\onedrive\\documentos\\aprendizaje\\streetfighter2reinforced\\.conda\\lib\\site-packages (from gym) (0.0.8)\n",
      "Requirement already satisfied: importlib-metadata>=4.8.0 in c:\\users\\nicol\\onedrive\\documentos\\aprendizaje\\streetfighter2reinforced\\.conda\\lib\\site-packages (from gym) (7.1.0)\n",
      "Requirement already satisfied: pyglet==1.*,>=1.3.2 in c:\\users\\nicol\\onedrive\\documentos\\aprendizaje\\streetfighter2reinforced\\.conda\\lib\\site-packages (from gym-retro) (1.5.29)\n",
      "Requirement already satisfied: zipp>=0.5 in c:\\users\\nicol\\onedrive\\documentos\\aprendizaje\\streetfighter2reinforced\\.conda\\lib\\site-packages (from importlib-metadata>=4.8.0->gym) (3.19.2)\n",
      "Using cached gym_retro-0.8.0-cp38-cp38-win_amd64.whl (152.0 MB)\n",
      "Using cached cloudpickle-3.0.0-py3-none-any.whl (20 kB)\n",
      "Installing collected packages: cloudpickle, gym, gym-retro\n",
      "Successfully installed cloudpickle-3.0.0 gym-0.26.2 gym-retro-0.8.0\n"
     ]
    }
   ],
   "source": [
    "!pip install gym gym-retro"
   ]
  },
  {
   "cell_type": "code",
   "execution_count": 2,
   "metadata": {},
   "outputs": [
    {
     "name": "stdout",
     "output_type": "stream",
     "text": [
      "Collecting gym==0.21.0\n",
      "  Using cached gym-0.21.0-py3-none-any.whl\n",
      "Requirement already satisfied: numpy>=1.18.0 in c:\\users\\nicol\\onedrive\\documentos\\aprendizaje\\streetfighter2reinforced\\.conda\\lib\\site-packages (from gym==0.21.0) (1.24.4)\n",
      "Requirement already satisfied: cloudpickle>=1.2.0 in c:\\users\\nicol\\onedrive\\documentos\\aprendizaje\\streetfighter2reinforced\\.conda\\lib\\site-packages (from gym==0.21.0) (3.0.0)\n",
      "Installing collected packages: gym\n",
      "  Attempting uninstall: gym\n",
      "    Found existing installation: gym 0.25.2\n",
      "    Uninstalling gym-0.25.2:\n",
      "      Successfully uninstalled gym-0.25.2\n",
      "Successfully installed gym-0.21.0\n"
     ]
    }
   ],
   "source": [
    "!pip install gym==0.21.0"
   ]
  },
  {
   "cell_type": "code",
   "execution_count": 4,
   "metadata": {},
   "outputs": [],
   "source": [
    "env.close()"
   ]
  },
  {
   "cell_type": "code",
   "execution_count": 5,
   "metadata": {},
   "outputs": [
    {
     "ename": "",
     "evalue": "",
     "output_type": "error",
     "traceback": [
      "\u001b[1;31mThe Kernel crashed while executing code in the current cell or a previous cell. \n",
      "\u001b[1;31mPlease review the code in the cell(s) to identify a possible cause of the failure. \n",
      "\u001b[1;31mClick <a href='https://aka.ms/vscodeJupyterKernelCrash'>here</a> for more info. \n",
      "\u001b[1;31mView Jupyter <a href='command:jupyter.viewOutput'>log</a> for further details."
     ]
    }
   ],
   "source": [
    "\n",
    "import retro\n",
    "import time\n",
    "\n",
    "# Mapa de movimientos con secuencias de teclas\n",
    "movimientos = {\n",
    "    \"hadouken\": [\n",
    "        [0, 0, 1, 0, 0, 0, 0, 0, 0, 0, 0, 0],  # ↓\n",
    "        [1, 0, 1, 0, 0, 0, 0, 0, 0, 0, 0, 0],  # ↘\n",
    "        [1, 0, 0, 0, 0, 0, 0, 0, 0, 0, 0, 0],  # →\n",
    "        [1, 0, 0, 1, 0, 0, 0, 0, 0, 0, 0, 0]   # → + Punch\n",
    "    ],\n",
    "    \"shoryuken\": [\n",
    "        [1, 0, 0, 0, 0, 0, 0, 0, 0, 0, 0, 0],  # →\n",
    "        [0, 0, 1, 0, 0, 0, 0, 0, 0, 0, 0, 0],  # ↓\n",
    "        [1, 0, 1, 0, 0, 0, 0, 0, 0, 0, 0, 0],  # ↘ + Punch\n",
    "    ],\n",
    "    \"tatsumaki\": [\n",
    "        [0, 1, 0, 0, 0, 0, 0, 0, 0, 0, 0, 0],  # ↓\n",
    "        [0, 1, 0, 0, 0, 0, 0, 0, 0, 0, 0, 0],  # ↓ ↙\n",
    "        [0, 0, 0, 0, 0, 0, 0, 0, 0, 0, 0, 1],  # ← + Kick\n",
    "    ]\n",
    "}\n",
    "\n",
    "# Map of lag for each move (in seconds)\n",
    "input_lag = {\n",
    "    \"hadouken\": 0.1,\n",
    "    \"shoryuken\": 0.1,\n",
    "    \"tatsumaki\": 0.1\n",
    "}\n",
    "\n",
    "def enviar_movimiento(env, movimiento):\n",
    "    secuencia = movimientos[movimiento]\n",
    "    lag = input_lag[movimiento]\n",
    "    for keys in secuencia:\n",
    "        env.step(keys)\n",
    "        env.render()\n",
    "        time.sleep(lag)  # Pausa para simular el tiempo de pulsación de teclas con input lag\n",
    "\n",
    "# Crear el entorno del juego\n",
    "env = retro.make(game='StreetFighterIISpecialChampionEdition-Genesis')\n",
    "env.reset()\n",
    "\n",
    "# Ejecutar un movimiento específico\n",
    "enviar_movimiento(env, \"hadouken\")\n",
    "\n",
    "# Ejecutar otro movimiento\n",
    "enviar_movimiento(env, \"shoryuken\")\n",
    "\n",
    "# Cerrar el entorno\n",
    "env.close()\n"
   ]
  }
 ],
 "metadata": {
  "kernelspec": {
   "display_name": ".venv",
   "language": "python",
   "name": "python3"
  },
  "language_info": {
   "codemirror_mode": {
    "name": "ipython",
    "version": 3
   },
   "file_extension": ".py",
   "mimetype": "text/x-python",
   "name": "python",
   "nbconvert_exporter": "python",
   "pygments_lexer": "ipython3",
   "version": "3.8.19"
  }
 },
 "nbformat": 4,
 "nbformat_minor": 2
}
