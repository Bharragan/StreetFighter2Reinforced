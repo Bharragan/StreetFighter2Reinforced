{
 "cells": [
  {
   "cell_type": "markdown",
   "metadata": {},
   "source": [
    "!pip install setuptools==65.5.0\n",
    "!pip install wheel==0.38.0\n",
    "!pip install gym==0.21.0\n",
    "!pip install gym-retro==0.8.0"
   ]
  },
  {
   "cell_type": "code",
   "execution_count": 12,
   "metadata": {},
   "outputs": [
    {
     "name": "stdout",
     "output_type": "stream",
     "text": [
      "Requirement already satisfied: gym in c:\\users\\nicol\\anaconda3\\envs\\stf2-enviroment\\lib\\site-packages (0.21.0)\n",
      "Requirement already satisfied: gym-retro in c:\\users\\nicol\\anaconda3\\envs\\stf2-enviroment\\lib\\site-packages (0.8.0)\n",
      "Requirement already satisfied: numpy>=1.18.0 in c:\\users\\nicol\\anaconda3\\envs\\stf2-enviroment\\lib\\site-packages (from gym) (1.24.4)\n",
      "Requirement already satisfied: cloudpickle>=1.2.0 in c:\\users\\nicol\\anaconda3\\envs\\stf2-enviroment\\lib\\site-packages (from gym) (1.6.0)\n",
      "Requirement already satisfied: pyglet==1.*,>=1.3.2 in c:\\users\\nicol\\anaconda3\\envs\\stf2-enviroment\\lib\\site-packages (from gym-retro) (1.5.29)\n"
     ]
    }
   ],
   "source": [
    "!pip install gym gym-retro\n",
    "!pip install torch torchvision torchaudio --index-url https://download.pytorch.org/whl/cu118\n",
    "!pip install matplotlib"
   ]
  },
  {
   "cell_type": "markdown",
   "metadata": {},
   "source": [
    "Code for locating retro"
   ]
  },
  {
   "cell_type": "code",
   "execution_count": null,
   "metadata": {},
   "outputs": [],
   "source": [
    "import os\n",
    "import retro\n",
    "\n",
    "retro_directory = os.path.dirname(retro.__file__)\n",
    "game_dir = \"data/stable/StreetFighterIISpecialChampionEdition-Genesis\"\n",
    "print(os.path.join(retro_directory, game_dir))"
   ]
  },
  {
   "cell_type": "markdown",
   "metadata": {},
   "source": [
    "# Setup basic enviroment"
   ]
  },
  {
   "cell_type": "code",
   "execution_count": null,
   "metadata": {},
   "outputs": [],
   "source": [
    "env.close()"
   ]
  },
  {
   "cell_type": "code",
   "execution_count": 4,
   "metadata": {},
   "outputs": [
    {
     "data": {
      "image/png": "[encoded data removed]",
      "text/plain": [
       "<Figure size 84x84 with 1 Axes>"
      ]
     },
     "metadata": {},
     "output_type": "display_data"
    }
   ],
   "source": [
    "import cv2\n",
    "import numpy as np\n",
    "import matplotlib.pyplot as plt\n",
    "from matplotlib.backends.backend_agg import FigureCanvasAgg as FigureCanvas\n",
    "from utils.balanced_env import BalancedStreetFighterEnv\n",
    "\n",
    "# Inicializar el entorno\n",
    "env = BalancedStreetFighterEnv()\n",
    "\n",
    "# Parámetros del video\n",
    "frame_height, frame_width = 84, 84  # Ajustar según el tamaño de tu observación\n",
    "video_width = frame_width * 2  # Ancho del video\n",
    "header_height = 40  # Altura del encabezado\n",
    "fps = 30\n",
    "fourcc = cv2.VideoWriter_fourcc(*'XVID')\n",
    "video_file = 'gameplay_with_rewards.avi'\n",
    "out = cv2.VideoWriter(video_file, fourcc, fps, (video_width, frame_height + header_height), isColor=True)\n",
    "\n",
    "# Inicializar matplotlib para el gráfico de recompensas\n",
    "fig, ax = plt.subplots(figsize=(frame_width / 100, frame_height / 100), dpi=100)\n",
    "canvas = FigureCanvas(fig)\n",
    "plt.axis('off')\n",
    "\n",
    "# Configuración inicial del gráfico\n",
    "reward_history = []\n",
    "\n",
    "# Ejecutar el juego y capturar el video\n",
    "obs = env.reset()\n",
    "done = False\n",
    "while not done:\n",
    "    obs, reward, done, info = env.step(env.action_space.sample())\n",
    "    \n",
    "    # Guardar la recompensa\n",
    "    reward_history.append(reward)\n",
    "    \n",
    "    # Convertir el frame del juego a RGB\n",
    "    frame = cv2.cvtColor(obs, cv2.COLOR_GRAY2RGB)  # Si tus frames son en escala de grises\n",
    "    \n",
    "    # Crear gráfico de recompensas\n",
    "    ax.clear()\n",
    "    ax.plot(reward_history, color='lime')\n",
    "    ax.set_ylim([0, max(1, max(reward_history))])  # Ajustar el rango del gráfico\n",
    "    ax.set_xlim([max(0, len(reward_history) - 100), len(reward_history)])  # Mostrar últimos 100 valores\n",
    "    ax.set_title('Reward History', fontsize=10)\n",
    "    \n",
    "    # Convertir el gráfico de matplotlib a imagen\n",
    "    canvas.draw()\n",
    "    reward_image = np.frombuffer(canvas.tostring_rgb(), dtype=np.uint8).reshape(fig.canvas.get_width_height()[::-1] + (3,))\n",
    "    \n",
    "    # Redimensionar la imagen del gráfico\n",
    "    reward_image = cv2.resize(reward_image, (frame_width, frame_height))\n",
    "    \n",
    "    # Crear marco para el video\n",
    "    frame_with_border = np.zeros((frame_height + header_height, video_width, 3), dtype=np.uint8)\n",
    "    \n",
    "    # Colocar el gráfico en el lado izquierdo\n",
    "    frame_with_border[:frame_height, :frame_width] = reward_image\n",
    "    \n",
    "    # Colocar el video del juego en el lado derecho\n",
    "    frame_with_border[:frame_height, frame_width:] = frame\n",
    "    \n",
    "    # Configurar el encabezado\n",
    "    header = np.zeros((header_height, video_width, 3), dtype=np.uint8)\n",
    "    font = cv2.FONT_HERSHEY_SIMPLEX\n",
    "    text = f'Reward: {reward:.2f}'  # Mostrar el número con dos decimales\n",
    "    font_scale = 1  # Tamaño del texto\n",
    "    font_thickness = 2  # Grosor del texto\n",
    "    text_size = cv2.getTextSize(text, font, font_scale, font_thickness)[0]\n",
    "    \n",
    "    # Posicionar el texto en el encabezado\n",
    "    text_x = (video_width - text_size[0]) // 2\n",
    "    text_y = (header_height + text_size[1]) // 2\n",
    "    \n",
    "    # Dibujar el texto en verde brillante sobre el encabezado\n",
    "    cv2.putText(header, text, (text_x, text_y), font, font_scale, (0, 255, 0), font_thickness, cv2.LINE_AA)\n",
    "    \n",
    "    # Colocar el encabezado sobre el marco\n",
    "    frame_with_border[:header_height, :] = header\n",
    "    \n",
    "    # Escribir el fotograma en el archivo de video\n",
    "    out.write(frame_with_border)\n",
    "    \n",
    "# Cerrar el VideoWriter\n",
    "out.release()\n",
    "\n",
    "# Cerrar el entorno\n",
    "env.close()\n",
    "\n"
   ]
  },
  {
   "cell_type": "code",
   "execution_count": null,
   "metadata": {},
   "outputs": [],
   "source": [
    "import time\n",
    "import matplotlib.pyplot as plt\n",
    "import numpy as np\n",
    "from utils.balanced_env import BalancedStreetFighterEnv\n",
    "\n",
    "# Reset game to starting state\n",
    "env = BalancedStreetFighterEnv()\n",
    "\n",
    "rewards = []\n",
    "\n",
    "plt.ion()  # Turn on interactive mode\n",
    "fig, ax = plt.subplots()\n",
    "line, = ax.plot(rewards)\n",
    "ax.set_xlim(0, 100)\n",
    "ax.set_ylim(-5, 5)\n",
    "plt.xlabel('Frame')\n",
    "plt.ylabel('Reward')\n",
    "plt.title('Reward per Frame')\n",
    "\n",
    "for game in range(10):\n",
    "    obs = env.reset()\n",
    "    done = False\n",
    "    frame = 0\n",
    "    while not done:\n",
    "        obs, reward, done, info = env.step(env.action_space.sample())\n",
    "        rewards.append(reward)\n",
    "        env.render()\n",
    "\n",
    "        # Update plot\n",
    "        line.set_xdata(np.arange(len(rewards)))\n",
    "        line.set_ydata(rewards)\n",
    "        ax.set_xlim(0, len(rewards))\n",
    "        ax.set_ylim(min(rewards) - 1, max(rewards) + 1)\n",
    "        fig.canvas.draw()\n",
    "        fig.canvas.flush_events()\n",
    "\n",
    "        print(f'Frame: {frame}, Reward: {reward}')\n",
    "        frame += 1\n",
    "\n",
    "    print(\"------------------------------------------ game: \", game)\n",
    "\n",
    "# Close the environment\n",
    "env.close()\n",
    "plt.ioff()  # Turn off interactive mode\n",
    "plt.show()\n",
    "\n"
   ]
  },
  {
   "cell_type": "markdown",
   "metadata": {},
   "source": [
    "Sample game"
   ]
  },
  {
   "cell_type": "code",
   "execution_count": null,
   "metadata": {},
   "outputs": [],
   "source": [
    "import time\n",
    "import matplotlib.pyplot as plt\n",
    "import numpy as np\n",
    "from utils.balanced_env import BalancedStreetFighterEnv\n",
    "\n",
    "# Reset game to starting state\n",
    "env = BalancedStreetFighterEnv()\n",
    "\n",
    "rewards = []\n",
    "\n",
    "for game in range(10):\n",
    "    obs = env.reset()\n",
    "    done = False\n",
    "    while not done:\n",
    "        #env.render()\n",
    "        obs, reward, done, info = env.step(env.action_space.sample())\n",
    "        rewards.append(reward)\n",
    "        #time.sleep(0.01)\n",
    "        print(reward)\n",
    "    print(\"------------------------------------------ game: \", game)\n",
    "\n",
    "# Close the environment\n",
    "env.close()\n",
    "\n",
    "# Convert rewards to a numpy array for easier analysis\n",
    "rewards = np.array(rewards)\n",
    "\n",
    "# Identify points outside the range [-100, 100]\n",
    "out_of_range_indices = np.where((rewards > 100) | (rewards < -100))[0]\n",
    "out_of_range_rewards = rewards[out_of_range_indices]\n",
    "\n",
    "# Plot rewards vs time\n",
    "plt.figure(figsize=(10, 5))\n",
    "plt.plot(rewards, label='Reward', color='blue')\n",
    "plt.scatter(out_of_range_indices, out_of_range_rewards, color='red', label='Out of Range')\n",
    "plt.axhline(0, color='red', linestyle='--', label='Zero Line')\n",
    "plt.ylim(-100, 100)\n",
    "plt.xlabel('Time Step')\n",
    "plt.ylabel('Reward')\n",
    "plt.title('Reward vs Time')\n",
    "plt.legend()\n",
    "plt.grid(True)\n",
    "plt.show()\n",
    "\n",
    "# Calculate and print statistics\n",
    "mean_reward = np.mean(rewards)\n",
    "std_reward = np.std(rewards)\n",
    "print(f'Mean Reward: {mean_reward}')\n",
    "print(f'Standard Deviation of Reward: {std_reward}')\n",
    "\n",
    "# Plot histogram of rewards with out of range points\n",
    "plt.figure(figsize=(10, 5))\n",
    "plt.hist(rewards, bins=30, alpha=0.7, color='blue', edgecolor='black')\n",
    "plt.axvline(mean_reward, color='red', linestyle='dashed', linewidth=1, label=f'Mean: {mean_reward:.2f}')\n",
    "plt.xlabel('Reward')\n",
    "plt.ylabel('Frequency')\n",
    "plt.title('Histogram of Rewards')\n",
    "plt.xlim(-100, 100)  # Limit the x-axis to [-100, 100]\n",
    "plt.legend()\n",
    "plt.grid(True)\n",
    "plt.show()\n",
    "\n",
    "\n"
   ]
  },
  {
   "cell_type": "markdown",
   "metadata": {},
   "source": [
    "## Optuna\n"
   ]
  },
  {
   "cell_type": "code",
   "execution_count": null,
   "metadata": {},
   "outputs": [],
   "source": [
    "import optuna \n",
    "from stable_baselines3 import PPO\n",
    "from stable_baselines3.common.evaluation import evaluate_policy\n",
    "from stable_baselines3.common.monitor import Monitor\n",
    "from stable_baselines3.common.vec_env import DummyVecEnv, VecFrameStack\n",
    "from stable_baselines3.common.callbacks import CheckpointCallback\n",
    "import os "
   ]
  },
  {
   "cell_type": "code",
   "execution_count": null,
   "metadata": {},
   "outputs": [],
   "source": [
    "LOG_DIR = './logs/'\n",
    "OPT_DIR = './opt/'\n",
    "os.makedirs(LOG_DIR, exist_ok=True)\n",
    "os.makedirs(OPT_DIR, exist_ok=True)"
   ]
  },
  {
   "cell_type": "code",
   "execution_count": null,
   "metadata": {},
   "outputs": [],
   "source": [
    "def optimize_ppo(trial): \n",
    "    return {\n",
    "        'n_steps':trial.suggest_int('n_steps', 2048, 8192),\n",
    "        'gamma':trial.suggest_loguniform('gamma', 0.8, 0.9999),\n",
    "        'learning_rate':trial.suggest_loguniform('learning_rate', 1e-5, 1e-4),\n",
    "        'clip_range':trial.suggest_uniform('clip_range', 0.1, 0.4),\n",
    "        'gae_lambda':trial.suggest_uniform('gae_lambda', 0.8, 0.99)\n",
    "    }"
   ]
  },
  {
   "cell_type": "code",
   "execution_count": null,
   "metadata": {},
   "outputs": [],
   "source": [
    "SAVE_PATH = os.path.join(OPT_DIR, 'trial_{}_best_model'.format(1))"
   ]
  },
  {
   "cell_type": "code",
   "execution_count": null,
   "metadata": {},
   "outputs": [],
   "source": [
    "def optimize_agent(trial):\n",
    "    try:\n",
    "        model_params = optimize_ppo(trial) \n",
    "\n",
    "        # Create environment \n",
    "        env = StreetFighterEnv(style=\"balanced\")\n",
    "        env = Monitor(env, LOG_DIR)\n",
    "        env = DummyVecEnv([lambda: env])\n",
    "        env = VecFrameStack(env, 4, channels_order='last')\n",
    "\n",
    "        # Create algo \n",
    "        model = PPO('CnnPolicy', env, tensorboard_log=LOG_DIR, verbose=0, **model_params)\n",
    "        #model.learn(total_timesteps=300)\n",
    "        model.learn(total_timesteps=100000)\n",
    "\n",
    "        # Evaluate model \n",
    "        mean_reward, _ = evaluate_policy(model, env, n_eval_episodes=5)\n",
    "        env.close()\n",
    "\n",
    "        SAVE_PATH = os.path.join(OPT_DIR, 'trial_{}_best_model'.format(trial.number))\n",
    "        model.save(SAVE_PATH)\n",
    "\n",
    "        return mean_reward\n",
    "\n",
    "    except Exception as e:\n",
    "        print(e)\n",
    "        return -1000"
   ]
  },
  {
   "cell_type": "markdown",
   "metadata": {},
   "source": [
    "## Crear estudio\n"
   ]
  },
  {
   "cell_type": "code",
   "execution_count": null,
   "metadata": {},
   "outputs": [],
   "source": [
    "study_name = 'ppo_street_fighter'  # Nombre del estudio\n",
    "storage_name = f'sqlite:///{OPT_DIR}/{study_name}.db'\n",
    "study = optuna.create_study(study_name=study_name, storage=storage_name, load_if_exists=True, direction='maximize')\n",
    "study.optimize(optimize_agent, n_trials=100, n_jobs=1)"
   ]
  },
  {
   "cell_type": "markdown",
   "metadata": {},
   "source": [
    "## Cargar estudio"
   ]
  },
  {
   "cell_type": "code",
   "execution_count": null,
   "metadata": {},
   "outputs": [],
   "source": [
    "study_name = 'ppo_street_fighter'  # Nombre del estudio\n",
    "storage_name = f'sqlite:///{OPT_DIR}/{study_name}.db'\n",
    "study = optuna.load_study(study_name=study_name, storage=storage_name)\n"
   ]
  },
  {
   "cell_type": "code",
   "execution_count": null,
   "metadata": {},
   "outputs": [],
   "source": [
    "# Obtener el mejor estudio\n",
    "study.best_trial"
   ]
  },
  {
   "cell_type": "code",
   "execution_count": null,
   "metadata": {},
   "outputs": [],
   "source": [
    "# Cargar el mejor estudio\n",
    "model = PPO.load(os.path.join(OPT_DIR, 'trial_41_best_model.zip'))"
   ]
  },
  {
   "cell_type": "markdown",
   "metadata": {},
   "source": [
    "# Guardar el mejor modelo"
   ]
  },
  {
   "cell_type": "code",
   "execution_count": null,
   "metadata": {},
   "outputs": [],
   "source": [
    "from stable_baselines3.common.callbacks import BaseCallback"
   ]
  },
  {
   "cell_type": "code",
   "execution_count": null,
   "metadata": {},
   "outputs": [],
   "source": [
    "class TrainAndLoggingCallback(BaseCallback):\n",
    "\n",
    "    def __init__(self, check_freq, save_path, verbose=1):\n",
    "        super(TrainAndLoggingCallback, self).__init__(verbose)\n",
    "        self.check_freq = check_freq\n",
    "        self.save_path = save_path\n",
    "\n",
    "    def _init_callback(self):\n",
    "        if self.save_path is not None:\n",
    "            os.makedirs(self.save_path, exist_ok=True)\n",
    "\n",
    "    def _on_step(self):\n",
    "        if self.n_calls % self.check_freq == 0:\n",
    "            model_path = os.path.join(self.save_path, 'best_model_{}'.format(self.n_calls))\n",
    "            self.model.save(model_path)\n",
    "\n",
    "        return True"
   ]
  },
  {
   "cell_type": "code",
   "execution_count": null,
   "metadata": {},
   "outputs": [],
   "source": [
    "CHECKPOINT_DIR = './train/'\n",
    "os.makedirs(CHECKPOINT_DIR, exist_ok=True)"
   ]
  },
  {
   "cell_type": "code",
   "execution_count": null,
   "metadata": {},
   "outputs": [],
   "source": [
    "callback = TrainAndLoggingCallback(check_freq=10000, save_path=CHECKPOINT_DIR)"
   ]
  },
  {
   "cell_type": "markdown",
   "metadata": {},
   "source": [
    "# Entrenar modelo"
   ]
  },
  {
   "cell_type": "code",
   "execution_count": null,
   "metadata": {},
   "outputs": [],
   "source": [
    "# Create environment \n",
    "\n",
    "env = StreetFighterEnv(style=\"balanced\")\n",
    "env = Monitor(env, LOG_DIR)\n",
    "env = DummyVecEnv([lambda: env])\n",
    "env = VecFrameStack(env, 4, channels_order='last')\n"
   ]
  },
  {
   "cell_type": "code",
   "execution_count": null,
   "metadata": {},
   "outputs": [],
   "source": [
    "model_params = study.best_params\n",
    "model_params['n_steps'] = 7488  # set n_steps to 7488 or a factor of 64\n",
    "# model_params['learning_rate'] = 5e-7\n",
    "model_params"
   ]
  },
  {
   "cell_type": "code",
   "execution_count": null,
   "metadata": {},
   "outputs": [],
   "source": [
    "model = PPO('CnnPolicy', env, tensorboard_log=LOG_DIR, verbose=1, **model_params)"
   ]
  },
  {
   "cell_type": "code",
   "execution_count": null,
   "metadata": {},
   "outputs": [],
   "source": [
    "model.load(os.path.join(CHECKPOINT_DIR, 'best_model_5000000.zip'))"
   ]
  },
  {
   "cell_type": "code",
   "execution_count": null,
   "metadata": {},
   "outputs": [],
   "source": [
    "#model.learn(total_timesteps=1000, callback=callback)\n",
    "model.learn(total_timesteps=5000000, callback=callback)"
   ]
  },
  {
   "cell_type": "code",
   "execution_count": null,
   "metadata": {},
   "outputs": [],
   "source": [
    "model.save(os.path.join(log_dir, 'final_model'))"
   ]
  },
  {
   "cell_type": "markdown",
   "metadata": {},
   "source": [
    "## Evaluar Modelo"
   ]
  },
  {
   "cell_type": "code",
   "execution_count": null,
   "metadata": {},
   "outputs": [],
   "source": [
    "model_path = './logs/PPO_2'\n",
    "\n",
    "# Cambiar los permisos del archivo\n",
    "os.chmod(model_path, 0o777)"
   ]
  },
  {
   "cell_type": "code",
   "execution_count": null,
   "metadata": {},
   "outputs": [],
   "source": [
    "model = PPO.load('./opt/trial_41_best_model.zip')"
   ]
  },
  {
   "cell_type": "code",
   "execution_count": null,
   "metadata": {},
   "outputs": [],
   "source": [
    "mean_reward, _ = evaluate_policy(model, env, render=True, n_eval_episodes=1)\n"
   ]
  },
  {
   "cell_type": "code",
   "execution_count": null,
   "metadata": {},
   "outputs": [],
   "source": [
    "mean_reward"
   ]
  },
  {
   "cell_type": "markdown",
   "metadata": {},
   "source": [
    "# Testear modelo"
   ]
  },
  {
   "cell_type": "code",
   "execution_count": null,
   "metadata": {},
   "outputs": [],
   "source": [
    "obs = env.reset()\n",
    "obs.shape\n",
    "env.step(model.predict(obs)[0])"
   ]
  },
  {
   "cell_type": "code",
   "execution_count": null,
   "metadata": {},
   "outputs": [],
   "source": [
    "env.close()"
   ]
  },
  {
   "cell_type": "code",
   "execution_count": null,
   "metadata": {},
   "outputs": [],
   "source": [
    "import time\n",
    "import matplotlib.pyplot as plt\n",
    "import cv2\n",
    "total_rewards = []\n",
    "victories = 0\n",
    "defeats = 0\n",
    "remaining_life_per_game = []\n",
    "fourcc = cv2.VideoWriter_fourcc(*'XVID')\n",
    "vw = cv2.VideoWriter('test2.avi', fourcc, 4, (320,224))\n",
    "# Jugar 100 partidas\n",
    "num_games = 3\n",
    "\n",
    "for game in range(num_games):\n",
    "    obs = env.reset()\n",
    "    done = False\n",
    "    total_reward = 0\n",
    "    \n",
    "    while not done:\n",
    "        action = model.predict(obs)[0]\n",
    "        env.render()\n",
    "        obs, reward, done, info = env.step(action)\n",
    "        #time.sleep(0.00001)\n",
    "        vw.write(obs)\n",
    "        total_reward += reward\n",
    "    vw.release()\n",
    "        \n",
    "    total_rewards.append(total_reward)\n",
    "    \n",
    "    # Encontrar la información relevante en info (asumiendo que info es una lista de diccionarios)\n",
    "    relevant_info = None\n",
    "    for item in info:\n",
    "        if 'health' in item:\n",
    "            remaining_life_per_game.append(item['health'])\n",
    "        if 'matches_won' in item and 'enemy_matches_won' in item:\n",
    "            if item['matches_won'] > item['enemy_matches_won']:\n",
    "                victories += 1\n",
    "            else:\n",
    "                defeats += 1\n",
    "            break  # Salir del bucle una vez que se han contado las victorias y derrotas\n"
   ]
  },
  {
   "cell_type": "code",
   "execution_count": null,
   "metadata": {},
   "outputs": [],
   "source": [
    "pip install imageio\n"
   ]
  },
  {
   "cell_type": "code",
   "execution_count": null,
   "metadata": {},
   "outputs": [],
   "source": [
    "import time\n",
    "import matplotlib.pyplot as plt\n",
    "\n",
    "# Inicializar métricas\n",
    "total_rewards = []\n",
    "victories = 0\n",
    "defeats = 0\n",
    "remaining_life_per_game = []\n",
    "\n",
    "# Jugar 100 partidas\n",
    "num_games = 3\n",
    "for game in range(num_games):\n",
    "    # Resetear el entorno\n",
    "    obs = env.reset()\n",
    "    done = False\n",
    "    total_reward = 0\n",
    "    \n",
    "    while not done:\n",
    "        # Predecir acción usando el modelo\n",
    "        action = model.predict(obs)[0]\n",
    "        # Tomar acción en el entorno\n",
    "        env.render()\n",
    "        time.sleep(0.001)\n",
    "        obs, reward, done, info = env.step(action)\n",
    "        # Acumular recompensa\n",
    "        total_reward += reward\n",
    "        \n",
    "    # Guardar las métricas del juego\n",
    "    total_rewards.append(total_reward)\n",
    "    \n",
    "    # Encontrar la información relevante en info (asumiendo que info es una lista de diccionarios)\n",
    "    relevant_info = None\n",
    "    for item in info:\n",
    "        if 'health' in item:\n",
    "            remaining_life_per_game.append(item['health'])\n",
    "        if 'matches_won' in item and 'enemy_matches_won' in item:\n",
    "            if item['matches_won'] > item['enemy_matches_won']:\n",
    "                victories += 1\n",
    "            else:\n",
    "                defeats += 1\n",
    "            break  # Salir del bucle una vez que se han contado las victorias y derrotas\n",
    "    print(victories)\n",
    "\n",
    "# Resultados finales\n",
    "print(\"Total Rewards per Game:\", total_rewards)\n",
    "print(\"Total Victories:\", victories)\n",
    "print(\"Total Defeats:\", defeats)\n",
    "print(\"Remaining Life per Game:\", remaining_life_per_game)\n",
    "\n",
    "# Graficar los resultados\n",
    "plt.figure(figsize=(15, 5))\n",
    "\n",
    "# Gráfico de Recompensa Total por Juego\n",
    "plt.subplot(1, 3, 1)\n",
    "plt.plot(total_rewards, marker='o')\n",
    "plt.title('Total Rewards per Game')\n",
    "plt.xlabel('Game')\n",
    "plt.ylabel('Total Reward')\n",
    "\n",
    "# Gráfico de Vida Restante por Juego\n",
    "plt.subplot(1, 3, 2)\n",
    "plt.plot(remaining_life_per_game, marker='o', color='orange')\n",
    "plt.title('Remaining Life per Game')\n",
    "plt.xlabel('Game')\n",
    "plt.ylabel('Remaining Life')\n",
    "\n",
    "# Gráfico de Victorias y Derrotas\n",
    "plt.subplot(1, 3, 3)\n",
    "plt.bar(['Victories', 'Defeats'], [victories, defeats], color=['green', 'red'])\n",
    "plt.title('Victories vs Defeats')\n",
    "plt.ylabel('Count')\n",
    "\n",
    "# Mostrar los gráficos\n",
    "plt.tight_layout()\n",
    "plt.show()\n"
   ]
  },
  {
   "cell_type": "code",
   "execution_count": null,
   "metadata": {},
   "outputs": [],
   "source": [
    "backup_rewards = total_rewards \n",
    "backup_victories = victories\n",
    "backup_defeats = defeats\n",
    "backup_remaining_life_per_game = remaining_life_per_game"
   ]
  },
  {
   "cell_type": "code",
   "execution_count": null,
   "metadata": {},
   "outputs": [],
   "source": [
    "\n",
    "# Resultados finales\n",
    "print(\"Total Rewards per Game:\", total_rewards)\n",
    "print(\"Total Victories:\", victories)\n",
    "print(\"Total Defeats:\", defeats)\n",
    "print(\"Remaining Life per Game:\", remaining_life_per_game)\n",
    "plt.figure(figsize=(15, 5))\n",
    "plt.subplot(1, 3, 1)\n",
    "plt.plot(total_rewards, marker='o')\n",
    "plt.title('Total Rewards per Game')\n",
    "plt.xlabel('Game')\n",
    "plt.ylabel('Total Reward')\n",
    "plt.savefig('total_rewards_per_game.png')\n",
    "\n",
    "# Save the second plot as a PNG file\n",
    "plt.subplot(1, 3, 2)\n",
    "plt.plot(remaining_life_per_game, marker='o', color='orange')\n",
    "plt.title('Remaining Life per Game')\n",
    "plt.xlabel('Game')\n",
    "plt.ylabel('Remaining Life')\n",
    "plt.savefig('remaining_life_per_game.png')\n",
    "\n",
    "# Save the third plot as a PNG file\n",
    "plt.subplot(1, 3, 3)\n",
    "plt.bar(['Victories', 'Defeats'], [victories, defeats], color=['green', 'red'])\n",
    "plt.title('Victories vs Defeats')\n",
    "plt.ylabel('Count')\n",
    "plt.savefig('victories_vs_defeats.png')\n",
    "\n",
    "# Close the figure to free up memory\n"
   ]
  }
 ],
 "metadata": {
  "kernelspec": {
   "display_name": ".venv",
   "language": "python",
   "name": "python3"
  },
  "language_info": {
   "codemirror_mode": {
    "name": "ipython",
    "version": 3
   },
   "file_extension": ".py",
   "mimetype": "text/x-python",
   "name": "python",
   "nbconvert_exporter": "python",
   "pygments_lexer": "ipython3",
   "version": "3.8.19"
  }
 },
 "nbformat": 4,
 "nbformat_minor": 2
}
