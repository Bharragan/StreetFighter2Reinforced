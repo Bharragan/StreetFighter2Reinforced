{
 "cells": [
  {
   "cell_type": "code",
   "execution_count": null,
   "metadata": {},
   "outputs": [],
   "source": [
    "!pip install gym gym-retro\n",
    "!pip install torch torchvision torchaudio --index-url https://download.pytorch.org/whl/cu118\n",
    "!pip install matplotlib"
   ]
  },
  {
   "cell_type": "markdown",
   "metadata": {},
   "source": [
    "Code for locating retro"
   ]
  },
  {
   "cell_type": "code",
   "execution_count": null,
   "metadata": {},
   "outputs": [],
   "source": [
    "import os\n",
    "\n",
    "import retro\n",
    "\n",
    "retro_directory = os.path.dirname(retro.__file__)\n",
    "game_dir = \"data/stable/StreetFighterIISpecialChampionEdition-Genesis\"\n",
    "print(os.path.join(retro_directory, game_dir))"
   ]
  },
  {
   "cell_type": "markdown",
   "metadata": {},
   "source": [
    "# Setup basic enviroment"
   ]
  },
  {
   "cell_type": "code",
   "execution_count": null,
   "metadata": {},
   "outputs": [],
   "source": [
    "env.close()"
   ]
  },
  {
   "cell_type": "markdown",
   "metadata": {},
   "source": [
    "Sample game"
   ]
  },
  {
   "cell_type": "code",
   "execution_count": null,
   "metadata": {},
   "outputs": [],
   "source": [
    "import time\n",
    "import matplotlib.pyplot as plt\n",
    "import numpy as np\n",
    "from utils.balanced_env import BalancedStreetFighterEnv\n",
    "\n",
    "# Reset game to starting state\n",
    "env = BalancedStreetFighterEnv()\n",
    "obs = env.reset()\n",
    "\n",
    "rewards = []\n",
    "\n",
    "done = False\n",
    "for game in range(1):\n",
    "    while not done:\n",
    "        if done:\n",
    "            obs = env.reset()\n",
    "        env.render()\n",
    "        obs, reward, done, info = env.step(env.action_space.sample())\n",
    "        rewards.append(reward)\n",
    "        #time.sleep(0.01)\n",
    "        print(info)\n",
    "\n",
    "# Close the environment\n",
    "env.close()\n",
    "\n",
    "# Convert rewards to a numpy array for easier analysis\n",
    "rewards = np.array(rewards)\n",
    "\n",
    "# Identify points outside the range [-100, 100]\n",
    "out_of_range_indices = np.where((rewards > 100) | (rewards < -100))[0]\n",
    "out_of_range_rewards = rewards[out_of_range_indices]\n",
    "\n",
    "# Plot rewards vs time\n",
    "plt.figure(figsize=(10, 5))\n",
    "plt.plot(rewards, label='Reward', color='blue')\n",
    "plt.scatter(out_of_range_indices, out_of_range_rewards, color='red', label='Out of Range')\n",
    "plt.axhline(0, color='red', linestyle='--', label='Zero Line')\n",
    "plt.ylim(-100, 100)\n",
    "plt.xlabel('Time Step')\n",
    "plt.ylabel('Reward')\n",
    "plt.title('Reward vs Time')\n",
    "plt.legend()\n",
    "plt.grid(True)\n",
    "plt.show()\n",
    "\n",
    "# Calculate and print statistics\n",
    "mean_reward = np.mean(rewards)\n",
    "std_reward = np.std(rewards)\n",
    "print(f'Mean Reward: {mean_reward}')\n",
    "print(f'Standard Deviation of Reward: {std_reward}')\n",
    "\n",
    "# Plot histogram of rewards with out of range points\n",
    "plt.figure(figsize=(10, 5))\n",
    "plt.hist(rewards, bins=30, alpha=0.7, color='blue', edgecolor='black')\n",
    "plt.axvline(mean_reward, color='red', linestyle='dashed', linewidth=1, label=f'Mean: {mean_reward:.2f}')\n",
    "plt.xlabel('Reward')\n",
    "plt.ylabel('Frequency')\n",
    "plt.title('Histogram of Rewards')\n",
    "plt.legend()\n",
    "plt.grid(True)\n",
    "plt.show()\n"
   ]
  },
  {
   "cell_type": "markdown",
   "metadata": {},
   "source": [
    "## Optuna\n"
   ]
  },
  {
   "cell_type": "code",
   "execution_count": null,
   "metadata": {},
   "outputs": [],
   "source": [
    "import optuna \n",
    "from stable_baselines3 import PPO\n",
    "from stable_baselines3.common.evaluation import evaluate_policy\n",
    "from stable_baselines3.common.monitor import Monitor\n",
    "from stable_baselines3.common.vec_env import DummyVecEnv, VecFrameStack\n",
    "from stable_baselines3.common.callbacks import CheckpointCallback\n",
    "import os "
   ]
  },
  {
   "cell_type": "code",
   "execution_count": null,
   "metadata": {},
   "outputs": [],
   "source": [
    "LOG_DIR = './logs/'\n",
    "OPT_DIR = './opt/'\n",
    "os.makedirs(LOG_DIR, exist_ok=True)\n",
    "os.makedirs(OPT_DIR, exist_ok=True)"
   ]
  },
  {
   "cell_type": "code",
   "execution_count": null,
   "metadata": {},
   "outputs": [],
   "source": [
    "def optimize_ppo(trial): \n",
    "    return {\n",
    "        'n_steps':trial.suggest_int('n_steps', 2048, 8192),\n",
    "        'gamma':trial.suggest_loguniform('gamma', 0.8, 0.9999),\n",
    "        'learning_rate':trial.suggest_loguniform('learning_rate', 1e-5, 1e-4),\n",
    "        'clip_range':trial.suggest_uniform('clip_range', 0.1, 0.4),\n",
    "        'gae_lambda':trial.suggest_uniform('gae_lambda', 0.8, 0.99)\n",
    "    }"
   ]
  },
  {
   "cell_type": "code",
   "execution_count": null,
   "metadata": {},
   "outputs": [],
   "source": [
    "SAVE_PATH = os.path.join(OPT_DIR, 'trial_{}_best_model'.format(1))"
   ]
  },
  {
   "cell_type": "code",
   "execution_count": null,
   "metadata": {},
   "outputs": [],
   "source": [
    "def optimize_agent(trial):\n",
    "    try:\n",
    "        model_params = optimize_ppo(trial) \n",
    "\n",
    "        # Create environment \n",
    "        env = StreetFighterEnv(style=\"balanced\")\n",
    "        env = Monitor(env, LOG_DIR)\n",
    "        env = DummyVecEnv([lambda: env])\n",
    "        env = VecFrameStack(env, 4, channels_order='last')\n",
    "\n",
    "        # Create algo \n",
    "        model = PPO('CnnPolicy', env, tensorboard_log=LOG_DIR, verbose=0, **model_params)\n",
    "        #model.learn(total_timesteps=300)\n",
    "        model.learn(total_timesteps=100000)\n",
    "\n",
    "        # Evaluate model \n",
    "        mean_reward, _ = evaluate_policy(model, env, n_eval_episodes=5)\n",
    "        env.close()\n",
    "\n",
    "        SAVE_PATH = os.path.join(OPT_DIR, 'trial_{}_best_model'.format(trial.number))\n",
    "        model.save(SAVE_PATH)\n",
    "\n",
    "        return mean_reward\n",
    "\n",
    "    except Exception as e:\n",
    "        print(e)\n",
    "        return -1000"
   ]
  },
  {
   "cell_type": "markdown",
   "metadata": {},
   "source": [
    "## Crear estudio\n"
   ]
  },
  {
   "cell_type": "code",
   "execution_count": null,
   "metadata": {},
   "outputs": [],
   "source": [
    "study_name = 'ppo_street_fighter'  # Nombre del estudio\n",
    "storage_name = f'sqlite:///{OPT_DIR}/{study_name}.db'\n",
    "study = optuna.create_study(study_name=study_name, storage=storage_name, load_if_exists=True, direction='maximize')\n",
    "study.optimize(optimize_agent, n_trials=100, n_jobs=1)"
   ]
  },
  {
   "cell_type": "markdown",
   "metadata": {},
   "source": [
    "## Cargar estudio"
   ]
  },
  {
   "cell_type": "code",
   "execution_count": null,
   "metadata": {},
   "outputs": [],
   "source": [
    "study_name = 'ppo_street_fighter'  # Nombre del estudio\n",
    "storage_name = f'sqlite:///{OPT_DIR}/{study_name}.db'\n",
    "study = optuna.load_study(study_name=study_name, storage=storage_name)\n"
   ]
  },
  {
   "cell_type": "code",
   "execution_count": null,
   "metadata": {},
   "outputs": [],
   "source": [
    "# Obtener el mejor estudio\n",
    "study.best_trial"
   ]
  },
  {
   "cell_type": "code",
   "execution_count": null,
   "metadata": {},
   "outputs": [],
   "source": [
    "# Cargar el mejor estudio\n",
    "model = PPO.load(os.path.join(OPT_DIR, 'trial_41_best_model.zip'))"
   ]
  },
  {
   "cell_type": "markdown",
   "metadata": {},
   "source": [
    "# Guardar el mejor modelo"
   ]
  },
  {
   "cell_type": "code",
   "execution_count": null,
   "metadata": {},
   "outputs": [],
   "source": [
    "from stable_baselines3.common.callbacks import BaseCallback"
   ]
  },
  {
   "cell_type": "code",
   "execution_count": null,
   "metadata": {},
   "outputs": [],
   "source": [
    "class TrainAndLoggingCallback(BaseCallback):\n",
    "\n",
    "    def __init__(self, check_freq, save_path, verbose=1):\n",
    "        super(TrainAndLoggingCallback, self).__init__(verbose)\n",
    "        self.check_freq = check_freq\n",
    "        self.save_path = save_path\n",
    "\n",
    "    def _init_callback(self):\n",
    "        if self.save_path is not None:\n",
    "            os.makedirs(self.save_path, exist_ok=True)\n",
    "\n",
    "    def _on_step(self):\n",
    "        if self.n_calls % self.check_freq == 0:\n",
    "            model_path = os.path.join(self.save_path, 'best_model_{}'.format(self.n_calls))\n",
    "            self.model.save(model_path)\n",
    "\n",
    "        return True"
   ]
  },
  {
   "cell_type": "code",
   "execution_count": null,
   "metadata": {},
   "outputs": [],
   "source": [
    "CHECKPOINT_DIR = './train/'\n",
    "os.makedirs(CHECKPOINT_DIR, exist_ok=True)"
   ]
  },
  {
   "cell_type": "code",
   "execution_count": null,
   "metadata": {},
   "outputs": [],
   "source": [
    "callback = TrainAndLoggingCallback(check_freq=10000, save_path=CHECKPOINT_DIR)"
   ]
  },
  {
   "cell_type": "markdown",
   "metadata": {},
   "source": [
    "# Entrenar modelo"
   ]
  },
  {
   "cell_type": "code",
   "execution_count": null,
   "metadata": {},
   "outputs": [],
   "source": [
    "# Create environment \n",
    "\n",
    "env = StreetFighterEnv(style=\"balanced\")\n",
    "env = Monitor(env, LOG_DIR)\n",
    "env = DummyVecEnv([lambda: env])\n",
    "env = VecFrameStack(env, 4, channels_order='last')\n"
   ]
  },
  {
   "cell_type": "code",
   "execution_count": null,
   "metadata": {},
   "outputs": [],
   "source": [
    "model_params = study.best_params\n",
    "model_params['n_steps'] = 7488  # set n_steps to 7488 or a factor of 64\n",
    "# model_params['learning_rate'] = 5e-7\n",
    "model_params"
   ]
  },
  {
   "cell_type": "code",
   "execution_count": null,
   "metadata": {},
   "outputs": [],
   "source": [
    "model = PPO('CnnPolicy', env, tensorboard_log=LOG_DIR, verbose=1, **model_params)"
   ]
  },
  {
   "cell_type": "code",
   "execution_count": null,
   "metadata": {},
   "outputs": [],
   "source": [
    "model.load(os.path.join(CHECKPOINT_DIR, 'best_model_5000000.zip'))"
   ]
  },
  {
   "cell_type": "code",
   "execution_count": null,
   "metadata": {},
   "outputs": [],
   "source": [
    "#model.learn(total_timesteps=1000, callback=callback)\n",
    "model.learn(total_timesteps=5000000, callback=callback)"
   ]
  },
  {
   "cell_type": "code",
   "execution_count": null,
   "metadata": {},
   "outputs": [],
   "source": [
    "model.save(os.path.join(log_dir, 'final_model'))"
   ]
  },
  {
   "cell_type": "markdown",
   "metadata": {},
   "source": [
    "## Evaluar Modelo"
   ]
  },
  {
   "cell_type": "code",
   "execution_count": null,
   "metadata": {},
   "outputs": [],
   "source": [
    "model_path = './logs/PPO_2'\n",
    "\n",
    "# Cambiar los permisos del archivo\n",
    "os.chmod(model_path, 0o777)"
   ]
  },
  {
   "cell_type": "code",
   "execution_count": null,
   "metadata": {},
   "outputs": [],
   "source": [
    "model = PPO.load('./opt/trial_41_best_model.zip')"
   ]
  },
  {
   "cell_type": "code",
   "execution_count": null,
   "metadata": {},
   "outputs": [],
   "source": [
    "mean_reward, _ = evaluate_policy(model, env, render=True, n_eval_episodes=1)\n"
   ]
  },
  {
   "cell_type": "code",
   "execution_count": null,
   "metadata": {},
   "outputs": [],
   "source": [
    "mean_reward"
   ]
  },
  {
   "cell_type": "markdown",
   "metadata": {},
   "source": [
    "# Testear modelo"
   ]
  },
  {
   "cell_type": "code",
   "execution_count": null,
   "metadata": {},
   "outputs": [],
   "source": [
    "obs = env.reset()\n",
    "obs.shape\n",
    "env.step(model.predict(obs)[0])"
   ]
  },
  {
   "cell_type": "code",
   "execution_count": null,
   "metadata": {},
   "outputs": [],
   "source": [
    "env.close()"
   ]
  },
  {
   "cell_type": "code",
   "execution_count": null,
   "metadata": {},
   "outputs": [],
   "source": [
    "import time\n",
    "import matplotlib.pyplot as plt\n",
    "import cv2\n",
    "total_rewards = []\n",
    "victories = 0\n",
    "defeats = 0\n",
    "remaining_life_per_game = []\n",
    "fourcc = cv2.VideoWriter_fourcc(*'XVID')\n",
    "vw = cv2.VideoWriter('test2.avi', fourcc, 4, (320,224))\n",
    "# Jugar 100 partidas\n",
    "num_games = 3\n",
    "\n",
    "for game in range(num_games):\n",
    "    obs = env.reset()\n",
    "    done = False\n",
    "    total_reward = 0\n",
    "    \n",
    "    while not done:\n",
    "        action = model.predict(obs)[0]\n",
    "        env.render()\n",
    "        obs, reward, done, info = env.step(action)\n",
    "        #time.sleep(0.00001)\n",
    "        vw.write(obs)\n",
    "        total_reward += reward\n",
    "    vw.release()\n",
    "        \n",
    "    total_rewards.append(total_reward)\n",
    "    \n",
    "    # Encontrar la información relevante en info (asumiendo que info es una lista de diccionarios)\n",
    "    relevant_info = None\n",
    "    for item in info:\n",
    "        if 'health' in item:\n",
    "            remaining_life_per_game.append(item['health'])\n",
    "        if 'matches_won' in item and 'enemy_matches_won' in item:\n",
    "            if item['matches_won'] > item['enemy_matches_won']:\n",
    "                victories += 1\n",
    "            else:\n",
    "                defeats += 1\n",
    "            break  # Salir del bucle una vez que se han contado las victorias y derrotas\n"
   ]
  },
  {
   "cell_type": "code",
   "execution_count": null,
   "metadata": {},
   "outputs": [],
   "source": [
    "pip install imageio\n"
   ]
  },
  {
   "cell_type": "code",
   "execution_count": null,
   "metadata": {},
   "outputs": [],
   "source": [
    "import time\n",
    "import matplotlib.pyplot as plt\n",
    "\n",
    "# Inicializar métricas\n",
    "total_rewards = []\n",
    "victories = 0\n",
    "defeats = 0\n",
    "remaining_life_per_game = []\n",
    "\n",
    "# Jugar 100 partidas\n",
    "num_games = 3\n",
    "for game in range(num_games):\n",
    "    # Resetear el entorno\n",
    "    obs = env.reset()\n",
    "    done = False\n",
    "    total_reward = 0\n",
    "    \n",
    "    while not done:\n",
    "        # Predecir acción usando el modelo\n",
    "        action = model.predict(obs)[0]\n",
    "        # Tomar acción en el entorno\n",
    "        env.render()\n",
    "        time.sleep(0.001)\n",
    "        obs, reward, done, info = env.step(action)\n",
    "        # Acumular recompensa\n",
    "        total_reward += reward\n",
    "        \n",
    "    # Guardar las métricas del juego\n",
    "    total_rewards.append(total_reward)\n",
    "    \n",
    "    # Encontrar la información relevante en info (asumiendo que info es una lista de diccionarios)\n",
    "    relevant_info = None\n",
    "    for item in info:\n",
    "        if 'health' in item:\n",
    "            remaining_life_per_game.append(item['health'])\n",
    "        if 'matches_won' in item and 'enemy_matches_won' in item:\n",
    "            if item['matches_won'] > item['enemy_matches_won']:\n",
    "                victories += 1\n",
    "            else:\n",
    "                defeats += 1\n",
    "            break  # Salir del bucle una vez que se han contado las victorias y derrotas\n",
    "    print(victories)\n",
    "\n",
    "# Resultados finales\n",
    "print(\"Total Rewards per Game:\", total_rewards)\n",
    "print(\"Total Victories:\", victories)\n",
    "print(\"Total Defeats:\", defeats)\n",
    "print(\"Remaining Life per Game:\", remaining_life_per_game)\n",
    "\n",
    "# Graficar los resultados\n",
    "plt.figure(figsize=(15, 5))\n",
    "\n",
    "# Gráfico de Recompensa Total por Juego\n",
    "plt.subplot(1, 3, 1)\n",
    "plt.plot(total_rewards, marker='o')\n",
    "plt.title('Total Rewards per Game')\n",
    "plt.xlabel('Game')\n",
    "plt.ylabel('Total Reward')\n",
    "\n",
    "# Gráfico de Vida Restante por Juego\n",
    "plt.subplot(1, 3, 2)\n",
    "plt.plot(remaining_life_per_game, marker='o', color='orange')\n",
    "plt.title('Remaining Life per Game')\n",
    "plt.xlabel('Game')\n",
    "plt.ylabel('Remaining Life')\n",
    "\n",
    "# Gráfico de Victorias y Derrotas\n",
    "plt.subplot(1, 3, 3)\n",
    "plt.bar(['Victories', 'Defeats'], [victories, defeats], color=['green', 'red'])\n",
    "plt.title('Victories vs Defeats')\n",
    "plt.ylabel('Count')\n",
    "\n",
    "# Mostrar los gráficos\n",
    "plt.tight_layout()\n",
    "plt.show()\n"
   ]
  },
  {
   "cell_type": "code",
   "execution_count": null,
   "metadata": {},
   "outputs": [],
   "source": [
    "backup_rewards = total_rewards \n",
    "backup_victories = victories\n",
    "backup_defeats = defeats\n",
    "backup_remaining_life_per_game = remaining_life_per_game"
   ]
  },
  {
   "cell_type": "code",
   "execution_count": null,
   "metadata": {},
   "outputs": [],
   "source": [
    "\n",
    "# Resultados finales\n",
    "print(\"Total Rewards per Game:\", total_rewards)\n",
    "print(\"Total Victories:\", victories)\n",
    "print(\"Total Defeats:\", defeats)\n",
    "print(\"Remaining Life per Game:\", remaining_life_per_game)\n",
    "plt.figure(figsize=(15, 5))\n",
    "plt.subplot(1, 3, 1)\n",
    "plt.plot(total_rewards, marker='o')\n",
    "plt.title('Total Rewards per Game')\n",
    "plt.xlabel('Game')\n",
    "plt.ylabel('Total Reward')\n",
    "plt.savefig('total_rewards_per_game.png')\n",
    "\n",
    "# Save the second plot as a PNG file\n",
    "plt.subplot(1, 3, 2)\n",
    "plt.plot(remaining_life_per_game, marker='o', color='orange')\n",
    "plt.title('Remaining Life per Game')\n",
    "plt.xlabel('Game')\n",
    "plt.ylabel('Remaining Life')\n",
    "plt.savefig('remaining_life_per_game.png')\n",
    "\n",
    "# Save the third plot as a PNG file\n",
    "plt.subplot(1, 3, 3)\n",
    "plt.bar(['Victories', 'Defeats'], [victories, defeats], color=['green', 'red'])\n",
    "plt.title('Victories vs Defeats')\n",
    "plt.ylabel('Count')\n",
    "plt.savefig('victories_vs_defeats.png')\n",
    "\n",
    "# Close the figure to free up memory\n"
   ]
  }
 ],
 "metadata": {
  "kernelspec": {
   "display_name": ".venv",
   "language": "python",
   "name": "python3"
  },
  "language_info": {
   "codemirror_mode": {
    "name": "ipython",
    "version": 3
   },
   "file_extension": ".py",
   "mimetype": "text/x-python",
   "name": "python",
   "nbconvert_exporter": "python",
   "pygments_lexer": "ipython3",
   "version": "3.8.19"
  }
 },
 "nbformat": 4,
 "nbformat_minor": 2
}
